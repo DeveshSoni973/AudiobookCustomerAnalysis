{
  "nbformat": 4,
  "nbformat_minor": 0,
  "metadata": {
    "colab": {
      "provenance": []
    },
    "kernelspec": {
      "name": "python3",
      "display_name": "Python 3"
    },
    "language_info": {
      "name": "python"
    }
  },
  "cells": [
    {
      "cell_type": "code",
      "execution_count": 8,
      "metadata": {
        "id": "-S1XrHaKsWOo"
      },
      "outputs": [],
      "source": [
        "import numpy as np\n",
        "import tensorflow as tf\n"
      ]
    },
    {
      "cell_type": "markdown",
      "source": [
        "# load data"
      ],
      "metadata": {
        "id": "04dv9qBOuuQB"
      }
    },
    {
      "cell_type": "code",
      "source": [
        "npz=np.load('Audiobooks_data_train.npz')\n",
        "train_inputs=npz['inputs'].astype(float)\n",
        "train_targets=npz['targets'].astype(int)\n",
        "\n",
        "\n",
        "npz=np.load('Audiobooks_data_validation.npz')\n",
        "validation_inputs=npz['inputs'].astype(float)\n",
        "validation_targets=npz['targets'].astype(int)\n",
        "\n",
        "\n",
        "npz=np.load('Audiobooks_data_test.npz')\n",
        "test_inputs=npz['inputs'].astype(float)\n",
        "test_targets=npz['targets'].astype(int)"
      ],
      "metadata": {
        "id": "4Vksliecs75H"
      },
      "execution_count": 9,
      "outputs": []
    },
    {
      "cell_type": "code",
      "source": [
        "train_targets.shape"
      ],
      "metadata": {
        "colab": {
          "base_uri": "https://localhost:8080/"
        },
        "id": "k8em64xVytj9",
        "outputId": "ff77a2e4-6b8a-4495-9c4b-0c61549e8829"
      },
      "execution_count": 12,
      "outputs": [
        {
          "output_type": "execute_result",
          "data": {
            "text/plain": [
              "(3579,)"
            ]
          },
          "metadata": {},
          "execution_count": 12
        }
      ]
    },
    {
      "cell_type": "markdown",
      "source": [
        "# Model"
      ],
      "metadata": {
        "id": "5oudG7NbuybP"
      }
    },
    {
      "cell_type": "code",
      "source": [
        "input_size=10\n",
        "output_size=2\n",
        "hidden_layer_size=50\n",
        "\n",
        "model=tf.keras.Sequential(\n",
        "    [\n",
        "        tf.keras.layers.Dense(hidden_layer_size,activation=\"relu\"),\n",
        "        tf.keras.layers.Dense(hidden_layer_size,activation=\"relu\"),\n",
        "        tf.keras.layers.Dense(output_size,activation=\"softmax\")\n",
        "    ]\n",
        ")\n",
        "model.compile(optimizer=\"adam\", loss=\"sparse_categorical_crossentropy\", metrics=[\"accuracy\"])\n",
        "\n",
        "batch_size=100\n",
        "max_epochs=100\n",
        "early_stopping=tf.keras.callbacks.EarlyStopping(patience=2)\n",
        "\n",
        "model.fit(train_inputs,\n",
        "          train_targets,\n",
        "          batch_size=batch_size,\n",
        "          epochs=max_epochs,\n",
        "          callbacks=[early_stopping],\n",
        "          validation_data=(validation_inputs, validation_targets),\n",
        "          verbose=2\n",
        "          )\n"
      ],
      "metadata": {
        "colab": {
          "base_uri": "https://localhost:8080/"
        },
        "id": "fuga3EBCuxrw",
        "outputId": "f2b2f360-8ec9-46db-c768-69d0438f4a4c"
      },
      "execution_count": 16,
      "outputs": [
        {
          "output_type": "stream",
          "name": "stdout",
          "text": [
            "Epoch 1/100\n",
            "36/36 - 1s - loss: 0.6103 - accuracy: 0.6289 - val_loss: 0.5269 - val_accuracy: 0.7025 - 1s/epoch - 40ms/step\n",
            "Epoch 2/100\n",
            "36/36 - 0s - loss: 0.4854 - accuracy: 0.7625 - val_loss: 0.4407 - val_accuracy: 0.7450 - 154ms/epoch - 4ms/step\n",
            "Epoch 3/100\n",
            "36/36 - 0s - loss: 0.4233 - accuracy: 0.7782 - val_loss: 0.4047 - val_accuracy: 0.7875 - 154ms/epoch - 4ms/step\n",
            "Epoch 4/100\n",
            "36/36 - 0s - loss: 0.3927 - accuracy: 0.7972 - val_loss: 0.3823 - val_accuracy: 0.8054 - 175ms/epoch - 5ms/step\n",
            "Epoch 5/100\n",
            "36/36 - 0s - loss: 0.3770 - accuracy: 0.7969 - val_loss: 0.3747 - val_accuracy: 0.8031 - 156ms/epoch - 4ms/step\n",
            "Epoch 6/100\n",
            "36/36 - 0s - loss: 0.3663 - accuracy: 0.8005 - val_loss: 0.3675 - val_accuracy: 0.8054 - 168ms/epoch - 5ms/step\n",
            "Epoch 7/100\n",
            "36/36 - 0s - loss: 0.3577 - accuracy: 0.8072 - val_loss: 0.3679 - val_accuracy: 0.7919 - 126ms/epoch - 4ms/step\n",
            "Epoch 8/100\n",
            "36/36 - 0s - loss: 0.3521 - accuracy: 0.8117 - val_loss: 0.3652 - val_accuracy: 0.8009 - 100ms/epoch - 3ms/step\n",
            "Epoch 9/100\n",
            "36/36 - 0s - loss: 0.3464 - accuracy: 0.8125 - val_loss: 0.3598 - val_accuracy: 0.8054 - 114ms/epoch - 3ms/step\n",
            "Epoch 10/100\n",
            "36/36 - 0s - loss: 0.3432 - accuracy: 0.8170 - val_loss: 0.3672 - val_accuracy: 0.7763 - 113ms/epoch - 3ms/step\n",
            "Epoch 11/100\n",
            "36/36 - 0s - loss: 0.3407 - accuracy: 0.8175 - val_loss: 0.3566 - val_accuracy: 0.8054 - 102ms/epoch - 3ms/step\n",
            "Epoch 12/100\n",
            "36/36 - 0s - loss: 0.3377 - accuracy: 0.8178 - val_loss: 0.3499 - val_accuracy: 0.8143 - 127ms/epoch - 4ms/step\n",
            "Epoch 13/100\n",
            "36/36 - 0s - loss: 0.3350 - accuracy: 0.8167 - val_loss: 0.3529 - val_accuracy: 0.8076 - 96ms/epoch - 3ms/step\n",
            "Epoch 14/100\n",
            "36/36 - 0s - loss: 0.3334 - accuracy: 0.8256 - val_loss: 0.3480 - val_accuracy: 0.8098 - 111ms/epoch - 3ms/step\n",
            "Epoch 15/100\n",
            "36/36 - 0s - loss: 0.3297 - accuracy: 0.8226 - val_loss: 0.3492 - val_accuracy: 0.8166 - 116ms/epoch - 3ms/step\n",
            "Epoch 16/100\n",
            "36/36 - 0s - loss: 0.3294 - accuracy: 0.8215 - val_loss: 0.3507 - val_accuracy: 0.7875 - 102ms/epoch - 3ms/step\n"
          ]
        },
        {
          "output_type": "execute_result",
          "data": {
            "text/plain": [
              "<keras.src.callbacks.History at 0x78f888707b50>"
            ]
          },
          "metadata": {},
          "execution_count": 16
        }
      ]
    },
    {
      "cell_type": "code",
      "source": [
        "test_loss, test_accuracy=model.evaluate(test_inputs, test_targets)\n",
        "test_loss, test_accuracy"
      ],
      "metadata": {
        "colab": {
          "base_uri": "https://localhost:8080/"
        },
        "id": "beZtbuWpuZQs",
        "outputId": "8342b933-743f-437d-b024-fc99f6840450"
      },
      "execution_count": 17,
      "outputs": [
        {
          "output_type": "stream",
          "name": "stdout",
          "text": [
            "14/14 [==============================] - 0s 2ms/step - loss: 0.3298 - accuracy: 0.8125\n"
          ]
        },
        {
          "output_type": "execute_result",
          "data": {
            "text/plain": [
              "(0.32977625727653503, 0.8125)"
            ]
          },
          "metadata": {},
          "execution_count": 17
        }
      ]
    },
    {
      "cell_type": "code",
      "source": [],
      "metadata": {
        "id": "U5j41f1A2vys"
      },
      "execution_count": null,
      "outputs": []
    }
  ]
}